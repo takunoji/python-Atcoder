{
 "cells": [
  {
   "cell_type": "markdown",
   "id": "c7b44abf-003c-416f-aee0-643f5579dfc5",
   "metadata": {},
   "source": [
    "題文\n",
    "英小文字からなる文字列 S が与えられます。\n",
    "\n",
    "S の先頭から a 文字目と b 文字目を入れ替えて得られる文字列を出力してください。\n",
    "\n",
    "制約\n",
    "S は英小文字からなる文字列\n",
    "S の長さ ∣S∣ は、 2≤∣S∣≤10 を満たす\n",
    "1≤a<b≤∣S∣\n",
    "a,b は整数"
   ]
  },
  {
   "cell_type": "code",
   "execution_count": 2,
   "id": "9a150fd5-a788-40e6-9514-679638867c33",
   "metadata": {},
   "outputs": [
    {
     "name": "stdin",
     "output_type": "stream",
     "text": [
      " abcde\n",
      " 1\n",
      " 2\n"
     ]
    },
    {
     "name": "stdout",
     "output_type": "stream",
     "text": [
      "bacde\n"
     ]
    }
   ],
   "source": [
    "s = str(input())\n",
    "a,b = int(input()),int(input())\n",
    "\n",
    "listletter = list(s)\n",
    "\n",
    "tmp = listletter[a-1:a] \n",
    "listletter[a-1:a]  = listletter[b-1:b] \n",
    "listletter[b-1:b]  = tmp\n",
    "\n",
    "s = \"\".join(listletter)\n",
    "print(s     )"
   ]
  },
  {
   "cell_type": "code",
   "execution_count": null,
   "id": "2b26034d-1f10-40a4-8faa-b9fb568727b7",
   "metadata": {},
   "outputs": [],
   "source": []
  },
  {
   "cell_type": "code",
   "execution_count": null,
   "id": "7202eb0b-d400-42a9-902d-8c113b518547",
   "metadata": {},
   "outputs": [],
   "source": []
  }
 ],
 "metadata": {
  "kernelspec": {
   "display_name": "Python 3",
   "language": "python",
   "name": "python3"
  },
  "language_info": {
   "codemirror_mode": {
    "name": "ipython",
    "version": 3
   },
   "file_extension": ".py",
   "mimetype": "text/x-python",
   "name": "python",
   "nbconvert_exporter": "python",
   "pygments_lexer": "ipython3",
   "version": "3.8.5"
  }
 },
 "nbformat": 4,
 "nbformat_minor": 5
}
